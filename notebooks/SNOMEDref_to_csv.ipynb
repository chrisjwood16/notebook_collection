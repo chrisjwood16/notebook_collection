{
 "cells": [
  {
   "cell_type": "markdown",
   "metadata": {},
   "source": [
    "# SNOMED refset extraction\n",
    "A notebook to extract medication code lists from SNOMED ref sets"
   ]
  },
  {
   "cell_type": "code",
   "execution_count": 1,
   "metadata": {},
   "outputs": [],
   "source": [
    "#import libraries required for analysis\n",
    "import os\n",
    "import pandas as pd"
   ]
  },
  {
   "cell_type": "code",
   "execution_count": 4,
   "metadata": {},
   "outputs": [
    {
     "data": {
      "text/html": [
       "<div>\n",
       "<style scoped>\n",
       "    .dataframe tbody tr th:only-of-type {\n",
       "        vertical-align: middle;\n",
       "    }\n",
       "\n",
       "    .dataframe tbody tr th {\n",
       "        vertical-align: top;\n",
       "    }\n",
       "\n",
       "    .dataframe thead th {\n",
       "        text-align: right;\n",
       "    }\n",
       "</style>\n",
       "<table border=\"1\" class=\"dataframe\">\n",
       "  <thead>\n",
       "    <tr style=\"text-align: right;\">\n",
       "      <th></th>\n",
       "      <th>id</th>\n",
       "      <th>effectiveTime</th>\n",
       "      <th>active</th>\n",
       "      <th>moduleId</th>\n",
       "      <th>refsetId</th>\n",
       "      <th>referencedComponentId</th>\n",
       "    </tr>\n",
       "  </thead>\n",
       "  <tbody>\n",
       "    <tr>\n",
       "      <th>0</th>\n",
       "      <td>0000046b-57ef-5ac7-be25-ef867333dac6</td>\n",
       "      <td>20200805</td>\n",
       "      <td>1</td>\n",
       "      <td>999000021000001108</td>\n",
       "      <td>999000401000000107</td>\n",
       "      <td>15586111000001102</td>\n",
       "    </tr>\n",
       "    <tr>\n",
       "      <th>1</th>\n",
       "      <td>00000804-8cfa-4c45-b9ce-393877e3ea81</td>\n",
       "      <td>20210217</td>\n",
       "      <td>1</td>\n",
       "      <td>999000021000001108</td>\n",
       "      <td>999000401000000107</td>\n",
       "      <td>39311411000001107</td>\n",
       "    </tr>\n",
       "    <tr>\n",
       "      <th>2</th>\n",
       "      <td>00000c1d-ffcc-5cff-8665-f5a3965e53d0</td>\n",
       "      <td>20160427</td>\n",
       "      <td>1</td>\n",
       "      <td>999000021000001108</td>\n",
       "      <td>999000031000001105</td>\n",
       "      <td>32473111000001106</td>\n",
       "    </tr>\n",
       "    <tr>\n",
       "      <th>3</th>\n",
       "      <td>000015e1-07b4-553f-87c0-1eb921f113cc</td>\n",
       "      <td>20100310</td>\n",
       "      <td>1</td>\n",
       "      <td>999000021000001108</td>\n",
       "      <td>999000031000001105</td>\n",
       "      <td>13865911000001101</td>\n",
       "    </tr>\n",
       "    <tr>\n",
       "      <th>4</th>\n",
       "      <td>000015f3-c748-5e8d-be98-5d383c0d1958</td>\n",
       "      <td>20160817</td>\n",
       "      <td>1</td>\n",
       "      <td>999000021000001108</td>\n",
       "      <td>999000551000001106</td>\n",
       "      <td>32960211000001103</td>\n",
       "    </tr>\n",
       "    <tr>\n",
       "      <th>...</th>\n",
       "      <td>...</td>\n",
       "      <td>...</td>\n",
       "      <td>...</td>\n",
       "      <td>...</td>\n",
       "      <td>...</td>\n",
       "      <td>...</td>\n",
       "    </tr>\n",
       "    <tr>\n",
       "      <th>1343271</th>\n",
       "      <td>ffffb153-aa49-4f58-83c5-e4b177bc20d1</td>\n",
       "      <td>20210804</td>\n",
       "      <td>1</td>\n",
       "      <td>999000021000001108</td>\n",
       "      <td>154471000001109</td>\n",
       "      <td>321551004</td>\n",
       "    </tr>\n",
       "    <tr>\n",
       "      <th>1343272</th>\n",
       "      <td>ffffbabb-ef79-5c74-87f4-3bd5a22208c8</td>\n",
       "      <td>20060501</td>\n",
       "      <td>1</td>\n",
       "      <td>999000021000001108</td>\n",
       "      <td>999000541000001108</td>\n",
       "      <td>320311000001105</td>\n",
       "    </tr>\n",
       "    <tr>\n",
       "      <th>1343273</th>\n",
       "      <td>ffffd229-3ea3-5f0f-9203-71c059f8db77</td>\n",
       "      <td>20080401</td>\n",
       "      <td>1</td>\n",
       "      <td>999000021000001108</td>\n",
       "      <td>999000571000001104</td>\n",
       "      <td>12052911000001105</td>\n",
       "    </tr>\n",
       "    <tr>\n",
       "      <th>1343274</th>\n",
       "      <td>ffffd7b4-58a0-5422-8a2e-ddc95152b5a1</td>\n",
       "      <td>20140917</td>\n",
       "      <td>1</td>\n",
       "      <td>999000021000001108</td>\n",
       "      <td>999000541000001108</td>\n",
       "      <td>25200211000001102</td>\n",
       "    </tr>\n",
       "    <tr>\n",
       "      <th>1343275</th>\n",
       "      <td>ffffe596-3214-5979-941f-860d3fe9ceb0</td>\n",
       "      <td>20200805</td>\n",
       "      <td>1</td>\n",
       "      <td>999000021000001108</td>\n",
       "      <td>999000401000000107</td>\n",
       "      <td>27069011000001107</td>\n",
       "    </tr>\n",
       "  </tbody>\n",
       "</table>\n",
       "<p>1343276 rows × 6 columns</p>\n",
       "</div>"
      ],
      "text/plain": [
       "                                           id  effectiveTime  active  \\\n",
       "0        0000046b-57ef-5ac7-be25-ef867333dac6       20200805       1   \n",
       "1        00000804-8cfa-4c45-b9ce-393877e3ea81       20210217       1   \n",
       "2        00000c1d-ffcc-5cff-8665-f5a3965e53d0       20160427       1   \n",
       "3        000015e1-07b4-553f-87c0-1eb921f113cc       20100310       1   \n",
       "4        000015f3-c748-5e8d-be98-5d383c0d1958       20160817       1   \n",
       "...                                       ...            ...     ...   \n",
       "1343271  ffffb153-aa49-4f58-83c5-e4b177bc20d1       20210804       1   \n",
       "1343272  ffffbabb-ef79-5c74-87f4-3bd5a22208c8       20060501       1   \n",
       "1343273  ffffd229-3ea3-5f0f-9203-71c059f8db77       20080401       1   \n",
       "1343274  ffffd7b4-58a0-5422-8a2e-ddc95152b5a1       20140917       1   \n",
       "1343275  ffffe596-3214-5979-941f-860d3fe9ceb0       20200805       1   \n",
       "\n",
       "                   moduleId            refsetId  referencedComponentId  \n",
       "0        999000021000001108  999000401000000107      15586111000001102  \n",
       "1        999000021000001108  999000401000000107      39311411000001107  \n",
       "2        999000021000001108  999000031000001105      32473111000001106  \n",
       "3        999000021000001108  999000031000001105      13865911000001101  \n",
       "4        999000021000001108  999000551000001106      32960211000001103  \n",
       "...                     ...                 ...                    ...  \n",
       "1343271  999000021000001108     154471000001109              321551004  \n",
       "1343272  999000021000001108  999000541000001108        320311000001105  \n",
       "1343273  999000021000001108  999000571000001104      12052911000001105  \n",
       "1343274  999000021000001108  999000541000001108      25200211000001102  \n",
       "1343275  999000021000001108  999000401000000107      27069011000001107  \n",
       "\n",
       "[1343276 rows x 6 columns]"
      ]
     },
     "execution_count": 4,
     "metadata": {},
     "output_type": "execute_result"
    }
   ],
   "source": [
    "df = pd.read_csv(os.path.join('..','data/TRUD','der2_Refset_SimpleUKDGFull_GB1000001_20220706.txt'), sep='\\t')\n",
    "df"
   ]
  },
  {
   "cell_type": "code",
   "execution_count": 12,
   "metadata": {},
   "outputs": [
    {
     "data": {
      "text/html": [
       "<div>\n",
       "<style scoped>\n",
       "    .dataframe tbody tr th:only-of-type {\n",
       "        vertical-align: middle;\n",
       "    }\n",
       "\n",
       "    .dataframe tbody tr th {\n",
       "        vertical-align: top;\n",
       "    }\n",
       "\n",
       "    .dataframe thead th {\n",
       "        text-align: right;\n",
       "    }\n",
       "</style>\n",
       "<table border=\"1\" class=\"dataframe\">\n",
       "  <thead>\n",
       "    <tr style=\"text-align: right;\">\n",
       "      <th></th>\n",
       "      <th>AMP</th>\n",
       "    </tr>\n",
       "  </thead>\n",
       "  <tbody>\n",
       "    <tr>\n",
       "      <th>0</th>\n",
       "      <td>NaN</td>\n",
       "    </tr>\n",
       "  </tbody>\n",
       "</table>\n",
       "</div>"
      ],
      "text/plain": [
       "   AMP\n",
       "0  NaN"
      ]
     },
     "execution_count": 12,
     "metadata": {},
     "output_type": "execute_result"
    }
   ],
   "source": [
    "ampdf = pd.read_xml(os.path.join('..','data/TRUD','f_amp2_3010922.xml'), xpath=\"/ACTUAL_MEDICINAL_PRODUCTS/AMPS\")\n",
    "ampdf"
   ]
  },
  {
   "cell_type": "code",
   "execution_count": 31,
   "metadata": {},
   "outputs": [
    {
     "data": {
      "text/plain": [
       "{154091000001103: 'ANTIMICROBIALDRUG_COD',\n",
       " 226291000001104: 'BENZODRUG_COD',\n",
       " 92161000001100: 'DIRECTORANTICOAGDRUG_COD',\n",
       " 154481000001106: 'GABADRUG_COD',\n",
       " 154491000001108: 'NONASPANTIPLTDRUG_COD',\n",
       " 94871000001106: 'NONSELBBDRUG_COD',\n",
       " 154171000001103: 'OPIOIDDRUG_COD',\n",
       " 154181000001101: 'ORALNSAIDDRUG_COD',\n",
       " 12463501000001109: 'ORANTICOAGDRUG_COD',\n",
       " 12463701000001103: 'SAL_COD',\n",
       " 153791000001103: 'STRONGOPIOIDDRUG_COD',\n",
       " 153991000001100: 'ULCERHEALDRUG_COD',\n",
       " 154131000001100: 'VSTRONGOPIOIDDRUG_COD'}"
      ]
     },
     "execution_count": 31,
     "metadata": {},
     "output_type": "execute_result"
    }
   ],
   "source": [
    "df_refset_to_get = pd.read_csv(os.path.join('..','data','refset_to_get.csv'), sep='\\t')\n",
    "df_refset_to_get = df_refset_to_get[['Cluster name', 'SNOMED CT']]\n",
    "refset_to_get_dict=dict(zip(df_refset_to_get['SNOMED CT'], df_refset_to_get['Cluster name']))\n",
    "refset_to_get_dict"
   ]
  },
  {
   "cell_type": "code",
   "execution_count": 34,
   "metadata": {},
   "outputs": [],
   "source": [
    "for key in refset_to_get_dict:\n",
    "    refsetinput=key\n",
    "    refsetnameinput=refset_to_get_dict[key]\n",
    "    #refsetnameinput=input(\"Enter refset name:\")\n",
    "    #refsetinput=int(input(\"Enter refset ID:\"))\n",
    "    refsetcomponents=df.loc[(df['active'] == 1) & (df['refsetId'] == refsetinput)]\n",
    "    refsetcomponents=refsetcomponents['referencedComponentId']\n",
    "    refsetcomponents.to_csv(os.path.join('..','data/refsets',refsetnameinput+'.csv'), index=False)"
   ]
  },
  {
   "cell_type": "code",
   "execution_count": null,
   "metadata": {},
   "outputs": [],
   "source": []
  }
 ],
 "metadata": {
  "jupytext": {
   "cell_metadata_filter": "all",
   "notebook_metadata_filter": "all,-language_info",
   "text_representation": {
    "extension": ".py",
    "format_name": "light",
    "format_version": "1.5",
    "jupytext_version": "1.3.3"
   }
  },
  "kernelspec": {
   "display_name": "Python 3",
   "language": "python",
   "name": "python3"
  },
  "language_info": {
   "codemirror_mode": {
    "name": "ipython",
    "version": 3
   },
   "file_extension": ".py",
   "mimetype": "text/x-python",
   "name": "python",
   "nbconvert_exporter": "python",
   "pygments_lexer": "ipython3",
   "version": "3.8.1"
  }
 },
 "nbformat": 4,
 "nbformat_minor": 4
}
