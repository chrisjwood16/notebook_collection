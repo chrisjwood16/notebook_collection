{
 "cells": [
  {
   "cell_type": "markdown",
   "metadata": {},
   "source": [
    "# Plain BNF codes to SQL format conversion\n",
    "Enter BNF codes without formatting to return SQL compatible result"
   ]
  },
  {
   "cell_type": "code",
   "execution_count": 1,
   "metadata": {},
   "outputs": [],
   "source": [
    "def SQLformatBNFcodes(bnfcodeslist):\n",
    "    #Convert to list\n",
    "    bnfcodeslist = bnfcodes.split('\\n')\n",
    "\n",
    "    #Remove empty list items\n",
    "    bnfcodeslist = list(filter(None, bnfcodeslist))\n",
    "\n",
    "    #Remove duplicate codes\n",
    "    bnfcodeslist = list(set(bnfcodeslist))\n",
    "    \n",
    "    #Resort codes\n",
    "    bnfcodeslist.sort()\n",
    "\n",
    "    #Convert to quoted, comma seperated list\n",
    "    bnfcodesstring = ', '.join(f'\"{code}\"' for code in bnfcodeslist)\n",
    "\n",
    "    return bnfcodesstring"
   ]
  },
  {
   "cell_type": "code",
   "execution_count": 8,
   "metadata": {
    "lines_to_next_cell": 0
   },
   "outputs": [
    {
     "data": {
      "text/plain": [
       "'\"0803042B0AAAAAA\", \"0803042B0BBAAAA\", \"0803042R0AAAAAA\", \"0803042R0AAABAB\", \"0803042R0BBAAAA\", \"0803042R0BBABAB\"'"
      ]
     },
     "execution_count": 8,
     "metadata": {},
     "output_type": "execute_result"
    }
   ],
   "source": [
    "bnfcodes = '''\n",
    "0803042R0AAAAAA\n",
    "0803042R0AAABAB\n",
    "0803042R0BBAAAA\n",
    "0803042R0BBABAB\n",
    "0803042B0AAAAAA\n",
    "0803042B0BBAAAA\n",
    "'''\n",
    "\n",
    "bnfcodesstring = SQLformatBNFcodes(bnfcodes)\n",
    "bnfcodesstring\n"
   ]
  },
  {
   "cell_type": "code",
   "execution_count": null,
   "metadata": {},
   "outputs": [],
   "source": []
  }
 ],
 "metadata": {
  "jupytext": {
   "cell_metadata_filter": "all",
   "notebook_metadata_filter": "all,-language_info",
   "text_representation": {
    "extension": ".py",
    "format_name": "light",
    "format_version": "1.5",
    "jupytext_version": "1.3.3"
   }
  },
  "kernelspec": {
   "display_name": "Python 3",
   "language": "python",
   "name": "python3"
  },
  "language_info": {
   "codemirror_mode": {
    "name": "ipython",
    "version": 3
   },
   "file_extension": ".py",
   "mimetype": "text/x-python",
   "name": "python",
   "nbconvert_exporter": "python",
   "pygments_lexer": "ipython3",
   "version": "3.8.1"
  }
 },
 "nbformat": 4,
 "nbformat_minor": 4
}
